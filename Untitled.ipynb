{
 "cells": [
  {
   "cell_type": "code",
   "execution_count": 7,
   "metadata": {},
   "outputs": [
    {
     "name": "stdout",
     "output_type": "stream",
     "text": [
      "maxKey 100\n"
     ]
    },
    {
     "data": {
      "text/plain": [
       "'33'"
      ]
     },
     "execution_count": 7,
     "metadata": {},
     "output_type": "execute_result"
    }
   ],
   "source": [
    "dict = {'1': 'd', '100':'c', '2':'a', '33':'e'}\n",
    "maxValue = 0\n",
    "for key in dict.keys():\n",
    "    if maxValue < int(key):\n",
    "        maxValue = int(key)\n",
    "print('maxKey', maxValue)\n",
    "dict.keys()\n",
    "max(dict.keys())"
   ]
  }
 ],
 "metadata": {
  "kernelspec": {
   "display_name": "Python 3",
   "language": "python",
   "name": "python3"
  },
  "language_info": {
   "codemirror_mode": {
    "name": "ipython",
    "version": 3
   },
   "file_extension": ".py",
   "mimetype": "text/x-python",
   "name": "python",
   "nbconvert_exporter": "python",
   "pygments_lexer": "ipython3",
   "version": "3.6.5"
  }
 },
 "nbformat": 4,
 "nbformat_minor": 2
}
