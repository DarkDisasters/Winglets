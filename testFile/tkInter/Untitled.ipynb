{
 "cells": [
  {
   "cell_type": "code",
   "execution_count": null,
   "metadata": {},
   "outputs": [],
   "source": [
    "import tkinter\n",
    "import tkinter.messagebox\n",
    "\n",
    "from tkinter import *\n",
    "\n",
    "\n",
    "root = Tk();\n",
    "cv = canvas(root, width=1200, height=1200, bg='white')\n",
    "# line = canvas.create_line(0, 0, 100, 100, fill=\"red\")\n",
    "cv.pack()\n",
    "root.mainloop()\n"
   ]
  }
 ],
 "metadata": {
  "kernelspec": {
   "display_name": "Python 3",
   "language": "python",
   "name": "python3"
  }
 },
 "nbformat": 4,
 "nbformat_minor": 2
}
