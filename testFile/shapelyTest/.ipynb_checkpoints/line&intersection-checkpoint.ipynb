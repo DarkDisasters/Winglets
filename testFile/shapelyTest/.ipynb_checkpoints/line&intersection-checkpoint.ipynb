{
 "cells": [
  {
   "cell_type": "code",
   "execution_count": 9,
   "metadata": {},
   "outputs": [
    {
     "name": "stdout",
     "output_type": "stream",
     "text": [
      "[(1.0, 1.0), (2.0, 2.0)]\n",
      "1.0\n"
     ]
    },
    {
     "data": {
      "image/svg+xml": [
       "<svg xmlns=\"http://www.w3.org/2000/svg\" xmlns:xlink=\"http://www.w3.org/1999/xlink\" width=\"100.0\" height=\"100.0\" viewBox=\"0.96 0.96 1.08 1.08\" preserveAspectRatio=\"xMinYMin meet\"><g transform=\"matrix(1,0,0,-1,0,3.0)\"><polyline fill=\"none\" stroke=\"#66cc99\" stroke-width=\"0.0216\" points=\"1.0,1.0 2.0,2.0\" opacity=\"0.8\" /></g></svg>"
      ],
      "text/plain": [
       "<shapely.geometry.linestring.LineString at 0x1bbfef26160>"
      ]
     },
     "execution_count": 9,
     "metadata": {},
     "output_type": "execute_result"
    }
   ],
   "source": [
    "# 线段创建及获取点坐标\n",
    "from shapely.geometry import LineString;\n",
    "from shapely.geometry import Point;\n",
    "\n",
    "point1 = Point(1, 1)\n",
    "point2 = Point(2, 2)\n",
    "\n",
    "line = LineString([point1, point2])\n",
    "print(list(line.coords))\n",
    "print(list(line.coords)[0][0])\n",
    "line"
   ]
  },
  {
   "cell_type": "code",
   "execution_count": 22,
   "metadata": {},
   "outputs": [
    {
     "name": "stdout",
     "output_type": "stream",
     "text": [
      "[(1.0, 1.0), (2.6666666666666665, 4.333333333333333)]\n"
     ]
    },
    {
     "data": {
      "image/svg+xml": [
       "<svg xmlns=\"http://www.w3.org/2000/svg\" xmlns:xlink=\"http://www.w3.org/1999/xlink\" width=\"100.0\" height=\"100.0\" viewBox=\"0.8666666666666667 0.8666666666666667 1.9333333333333331 3.6\" preserveAspectRatio=\"xMinYMin meet\"><g transform=\"matrix(1,0,0,-1,0,5.333333333333334)\"><polyline fill=\"none\" stroke=\"#66cc99\" stroke-width=\"0.07200000000000001\" points=\"1.0,1.0 2.6666666666666665,4.333333333333333\" opacity=\"0.8\" /></g></svg>"
      ],
      "text/plain": [
       "<shapely.geometry.linestring.LineString at 0x1bbfef22fd0>"
      ]
     },
     "execution_count": 22,
     "metadata": {},
     "output_type": "execute_result"
    }
   ],
   "source": [
    "# line与polygon的intersection\n",
    "from shapely.geometry import LineString;\n",
    "from shapely.geometry import Point;\n",
    "from shapely.geometry import Polygon;\n",
    "\n",
    "point1 = Point(1, 1)\n",
    "point2 = Point(3, 5)\n",
    "\n",
    "line = LineString([point1, point2])\n",
    "\n",
    "ext = [(0, 0), (0, 4), (2, 5), (4, 3), (2, 0), (0, 0)]\n",
    "polygon = Polygon(ext)\n",
    "polygon\n",
    "intersection = line.intersection(polygon)\n",
    "print(list(intersection.coords))\n",
    "intersection\n"
   ]
  }
 ],
 "metadata": {
  "kernelspec": {
   "display_name": "Python 3",
   "language": "python",
   "name": "python3"
  },
  "language_info": {
   "codemirror_mode": {
    "name": "ipython",
    "version": 3
   },
   "file_extension": ".py",
   "mimetype": "text/x-python",
   "name": "python",
   "nbconvert_exporter": "python",
   "pygments_lexer": "ipython3",
   "version": "3.6.5"
  }
 },
 "nbformat": 4,
 "nbformat_minor": 2
}
