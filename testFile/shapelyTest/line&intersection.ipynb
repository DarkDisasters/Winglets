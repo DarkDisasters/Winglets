{
 "cells": [
  {
   "cell_type": "markdown",
   "metadata": {},
   "source": [
    "### 线段创建及获取点坐标"
   ]
  },
  {
   "cell_type": "code",
   "execution_count": 28,
   "metadata": {},
   "outputs": [
    {
     "name": "stdout",
     "output_type": "stream",
     "text": [
      "[(1.0, 1.0), (2.0, 2.0)]\n",
      "3.0\n"
     ]
    },
    {
     "data": {
      "image/svg+xml": [
       "<svg xmlns=\"http://www.w3.org/2000/svg\" xmlns:xlink=\"http://www.w3.org/1999/xlink\" width=\"100.0\" height=\"100.0\" viewBox=\"0.96 0.96 1.08 1.08\" preserveAspectRatio=\"xMinYMin meet\"><g transform=\"matrix(1,0,0,-1,0,3.0)\"><polyline fill=\"none\" stroke=\"#66cc99\" stroke-width=\"0.0216\" points=\"1.0,1.0 2.0,2.0\" opacity=\"0.8\" /></g></svg>"
      ],
      "text/plain": [
       "<shapely.geometry.linestring.LineString at 0x1bbfef22b70>"
      ]
     },
     "execution_count": 28,
     "metadata": {},
     "output_type": "execute_result"
    }
   ],
   "source": [
    "from shapely.geometry import LineString;\n",
    "from shapely.geometry import Point;\n",
    "\n",
    "point1 = Point(1, 1)\n",
    "point2 = Point(2, 2)\n",
    "\n",
    "line = LineString([point1, point2])\n",
    "print(list(line.coords))\n",
    "print(list(line.coords)[0][0] + 2)\n",
    "line"
   ]
  },
  {
   "cell_type": "markdown",
   "metadata": {},
   "source": [
    "### 线段中点的操作"
   ]
  },
  {
   "cell_type": "code",
   "execution_count": 27,
   "metadata": {},
   "outputs": [
    {
     "ename": "AttributeError",
     "evalue": "'LineString' object has no attribute 'add'",
     "output_type": "error",
     "traceback": [
      "\u001b[1;31m---------------------------------------------------------------------------\u001b[0m",
      "\u001b[1;31mAttributeError\u001b[0m                            Traceback (most recent call last)",
      "\u001b[1;32m<ipython-input-27-2da2fd3e896d>\u001b[0m in \u001b[0;36m<module>\u001b[1;34m()\u001b[0m\n\u001b[0;32m      6\u001b[0m \u001b[1;33m\u001b[0m\u001b[0m\n\u001b[0;32m      7\u001b[0m \u001b[0mline\u001b[0m \u001b[1;33m=\u001b[0m \u001b[0mLineString\u001b[0m\u001b[1;33m(\u001b[0m\u001b[1;33m[\u001b[0m\u001b[0mpoint1\u001b[0m\u001b[1;33m,\u001b[0m \u001b[0mpoint2\u001b[0m\u001b[1;33m]\u001b[0m\u001b[1;33m)\u001b[0m\u001b[1;33m\u001b[0m\u001b[0m\n\u001b[1;32m----> 8\u001b[1;33m \u001b[0mline\u001b[0m\u001b[1;33m.\u001b[0m\u001b[0madd\u001b[0m\u001b[1;33m(\u001b[0m\u001b[0mPoint\u001b[0m\u001b[1;33m(\u001b[0m\u001b[1;36m3\u001b[0m\u001b[1;33m,\u001b[0m\u001b[1;36m1.5\u001b[0m\u001b[1;33m)\u001b[0m\u001b[1;33m)\u001b[0m\u001b[1;33m\u001b[0m\u001b[0m\n\u001b[0m",
      "\u001b[1;31mAttributeError\u001b[0m: 'LineString' object has no attribute 'add'"
     ]
    }
   ],
   "source": [
    "from shapely.geometry import LineString;\n",
    "from shapely.geometry import Point;\n",
    "\n",
    "point1 = Point(1, 1)\n",
    "point2 = Point(2, 2)\n",
    "\n",
    "line = LineString([point1, point2])\n",
    "line.add(Point(3,1.5))"
   ]
  },
  {
   "cell_type": "markdown",
   "metadata": {},
   "source": [
    "### line与polygon的intersection"
   ]
  },
  {
   "cell_type": "code",
   "execution_count": 57,
   "metadata": {},
   "outputs": [
    {
     "name": "stdout",
     "output_type": "stream",
     "text": [
      "LineString\n",
      "[(1.0, 1.0), (2.6666666666666665, 4.333333333333333)]\n",
      "<built-in method index of tuple object at 0x000001BBFEEF9A88>\n",
      "<built-in method index of tuple object at 0x000001BBFEEFADC8>\n"
     ]
    }
   ],
   "source": [
    "\n",
    "from shapely.geometry import LineString;\n",
    "from shapely.geometry import Point;\n",
    "from shapely.geometry import Polygon;\n",
    "\n",
    "point1 = Point(1, 1)\n",
    "point2 = Point(3, 5)\n",
    "\n",
    "line = LineString([point1, point2])\n",
    "\n",
    "ext = [(0, 0), (0, 4), (2, 5), (4, 3), (2, 0), (0, 0)]\n",
    "polygon = Polygon(ext)\n",
    "polygon\n",
    "intersection = line.intersection(polygon)\n",
    "# intersection = polygon.intersection(line)\n",
    "print(intersection.type)\n",
    "print(list(intersection.coords))\n",
    "coords = list(intersection.coords)\n",
    "for i in range(len(coords)):\n",
    "    print(coords[i].index)\n"
   ]
  },
  {
   "cell_type": "markdown",
   "metadata": {},
   "source": [
    "### multiLineString Test"
   ]
  },
  {
   "cell_type": "code",
   "execution_count": 60,
   "metadata": {},
   "outputs": [
    {
     "name": "stdout",
     "output_type": "stream",
     "text": [
      "area [<shapely.geometry.linestring.LineString object at 0x000001BBFEF5F320>, <shapely.geometry.linestring.LineString object at 0x000001BBFEF5FB00>]\n",
      "0.0\n",
      "3.414213562373095\n",
      "(-1.0, 0.0, 1.0, 1.0)\n",
      "<shapely.geometry.base.GeometrySequence object at 0x000001BBFEF5F390>\n",
      "2\n",
      "True\n",
      "curCoords [(0.0, 0.0), (1.0, 1.0)]\n",
      "curCoords <built-in method index of tuple object at 0x000001BBFEEF9808>\n",
      "curCoords [(-1.0, 0.0), (1.0, 0.0)]\n",
      "curCoords <built-in method index of tuple object at 0x000001BBFEEF9808>\n"
     ]
    },
    {
     "data": {
      "image/svg+xml": [
       "<svg xmlns=\"http://www.w3.org/2000/svg\" xmlns:xlink=\"http://www.w3.org/1999/xlink\" width=\"100.0\" height=\"100.0\" viewBox=\"-1.08 -0.08 2.16 1.1600000000000001\" preserveAspectRatio=\"xMinYMin meet\"><g transform=\"matrix(1,0,0,-1,0,1.0)\"><g><polyline fill=\"none\" stroke=\"#66cc99\" stroke-width=\"0.0432\" points=\"0.0,0.0 1.0,1.0\" opacity=\"0.8\" /><polyline fill=\"none\" stroke=\"#66cc99\" stroke-width=\"0.0432\" points=\"-1.0,0.0 1.0,0.0\" opacity=\"0.8\" /></g></g></svg>"
      ],
      "text/plain": [
       "<shapely.geometry.multilinestring.MultiLineString at 0x1bbfef5f9b0>"
      ]
     },
     "execution_count": 60,
     "metadata": {},
     "output_type": "execute_result"
    }
   ],
   "source": [
    "from shapely.geometry import MultiLineString\n",
    "coords = [((0, 0), (1, 1)), ((-1, 0), (1, 0))]\n",
    "lines = MultiLineString(coords)\n",
    "lines\n",
    "print('area', list(lines))\n",
    "print(lines.area)\n",
    "print(lines.length)\n",
    "print(lines.bounds)\n",
    "print(lines.geoms)\n",
    "print(len(lines.geoms))\n",
    "print(lines.type == 'MultiLineString')\n",
    "listLines = list(lines)\n",
    "for i in range(len(listLines)):\n",
    "    print('curCoords', list(listLines[i].coords))\n",
    "    print('curCoords', list(listLines[i].coords)[0].index)\n",
    "lines"
   ]
  }
 ],
 "metadata": {
  "kernelspec": {
   "display_name": "Python 3",
   "language": "python",
   "name": "python3"
  },
  "language_info": {
   "codemirror_mode": {
    "name": "ipython",
    "version": 3
   },
   "file_extension": ".py",
   "mimetype": "text/x-python",
   "name": "python",
   "nbconvert_exporter": "python",
   "pygments_lexer": "ipython3",
   "version": "3.6.5"
  }
 },
 "nbformat": 4,
 "nbformat_minor": 2
}
