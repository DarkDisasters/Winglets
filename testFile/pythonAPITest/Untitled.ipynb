{
 "cells": [
  {
   "cell_type": "markdown",
   "metadata": {},
   "source": [
    "### python中的undefined"
   ]
  },
  {
   "cell_type": "code",
   "execution_count": 9,
   "metadata": {},
   "outputs": [
    {
     "name": "stdout",
     "output_type": "stream",
     "text": [
      "testVariable undefined\n"
     ]
    }
   ],
   "source": [
    "## 对象\n",
    "test = {'testt': 1}\n",
    "if('testt' not in test.keys()):\n",
    "    print('variable undefined')\n",
    "    \n",
    "## 数组\n",
    "testArr = []\n",
    "## 变量\n",
    "testVariable = None\n",
    "if(testVariable is None):\n",
    "    print('testVariable undefined')"
   ]
  },
  {
   "cell_type": "markdown",
   "metadata": {},
   "source": [
    "### python中的keys"
   ]
  },
  {
   "cell_type": "code",
   "execution_count": 11,
   "metadata": {},
   "outputs": [
    {
     "name": "stdout",
     "output_type": "stream",
     "text": [
      "x\n",
      "y\n"
     ]
    }
   ],
   "source": [
    "testObj = {'x': 1, 'y': 2}\n",
    "\n",
    "# m_keys = testObj.keys()\n",
    "m_keys = list(testObj.keys())\n",
    "for i in range(len(m_keys)):\n",
    "    print(m_keys[i])"
   ]
  }
 ],
 "metadata": {
  "kernelspec": {
   "display_name": "Python 3",
   "language": "python",
   "name": "python3"
  },
  "language_info": {
   "codemirror_mode": {
    "name": "ipython",
    "version": 3
   },
   "file_extension": ".py",
   "mimetype": "text/x-python",
   "name": "python",
   "nbconvert_exporter": "python",
   "pygments_lexer": "ipython3",
   "version": "3.6.5"
  }
 },
 "nbformat": 4,
 "nbformat_minor": 2
}
